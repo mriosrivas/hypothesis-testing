{
 "cells": [
  {
   "cell_type": "markdown",
   "id": "3b5327f1",
   "metadata": {},
   "source": [
    "# A/B Testing\n",
    "A/B tests are used to test changes on a web page by running an experiment where a control group sees the old version, while the experiment group sees the new version. A metric is then chosen to measure the level of engagement from users in each group. \n",
    "\n",
    "A/B testing is very much like hypothesis testing with the following hypotheses:\n",
    "* Null Hypothesis: The new version is no better, or even worse, than the old version\n",
    "* Alternative Hypothesis: The new version is better than the old version\n",
    "\n",
    "A/B testing also has its drawbacks. It can help you compare two options, but it can't tell you about an option you haven’t considered. It can also produce bias results when tested on existing users, due to factors like change aversion and novelty effect.\n",
    "\n",
    "* **Change Aversion:** Existing users may give an unfair advantage to the old version, simply because they are unhappy with change, even if it’s ultimately for the better.\n",
    "\n",
    "* **Novelty Effect:** Existing users may give an unfair advantage to the new version, because they’re excited or drawn to the change, even if it isn’t any better in the long run.\n"
   ]
  },
  {
   "cell_type": "markdown",
   "id": "2d0ea092",
   "metadata": {},
   "source": [
    "## A/B Testing Example: Average CTR\n",
    "In the following example we will do a A/B test with a company named *Audacity* to test the effect of a change in their landing website. For this we will use the CTR (Click through rate) metric which is defined as\n",
    "\n",
    "CTR: # clicks by unique users / # views by unique users\n",
    "\n",
    "Our hypothesis is as follows:\n",
    "\n",
    "Our alternative hypothesis is what we want to prove to be true, in this case, that the new homepage design has a higher click through rate than the old homepage design. \n",
    "\n",
    "And the null hypothesis is what we assume to be true before analyzing data, which is that the new homepage design has a click through rate that is less than or equal to that of the old homepage design.\n",
    "\n",
    "$$H_0: CRT_n \\leq CRT_o $$ \n",
    "$$H_1: CRT_n \\gt CRT_o $$ \n",
    "\n",
    "Or written in another way:\n",
    "\n",
    "$$H_0: CRT_n - CRT_o \\leq 0 $$ \n",
    "$$H_1: CRT_n - CRT_o \\gt 0 $$ \n"
   ]
  },
  {
   "cell_type": "code",
   "execution_count": 1,
   "id": "329dc262",
   "metadata": {},
   "outputs": [],
   "source": [
    "import numpy as np\n",
    "import pandas as pd\n",
    "import matplotlib.pyplot as plt\n",
    "import seaborn as sns\n",
    "\n",
    "np.random.seed(42)"
   ]
  },
  {
   "cell_type": "code",
   "execution_count": 2,
   "id": "8fd702ee",
   "metadata": {},
   "outputs": [
    {
     "name": "stdout",
     "output_type": "stream",
     "text": [
      "--2022-05-21 11:54:11--  https://raw.githubusercontent.com/xinghuang-gao/a_b_testing_webpage_conversion/master/homepage_actions.csv\n",
      "Resolving raw.githubusercontent.com (raw.githubusercontent.com)... 185.199.108.133, 185.199.109.133, 185.199.110.133, ...\n",
      "Connecting to raw.githubusercontent.com (raw.githubusercontent.com)|185.199.108.133|:443... connected.\n",
      "HTTP request sent, awaiting response... 200 OK\n",
      "Length: 398494 (389K) [text/plain]\n",
      "Saving to: ‘homepage_actions.csv’\n",
      "\n",
      "homepage_actions.cs 100%[===================>] 389.15K   153KB/s    in 2.5s    \n",
      "\n",
      "2022-05-21 11:54:25 (153 KB/s) - ‘homepage_actions.csv’ saved [398494/398494]\n",
      "\n"
     ]
    }
   ],
   "source": [
    "! wget 'https://raw.githubusercontent.com/xinghuang-gao/a_b_testing_webpage_conversion/master/homepage_actions.csv'"
   ]
  },
  {
   "cell_type": "code",
   "execution_count": 3,
   "id": "d05b51de",
   "metadata": {},
   "outputs": [],
   "source": [
    "df =pd.read_csv('homepage_actions.csv')"
   ]
  },
  {
   "cell_type": "code",
   "execution_count": 4,
   "id": "c95582d2",
   "metadata": {},
   "outputs": [],
   "source": [
    "experiment = df[df['group']=='experiment']\n",
    "experiment = experiment.reset_index()"
   ]
  },
  {
   "cell_type": "code",
   "execution_count": 5,
   "id": "617a4686",
   "metadata": {},
   "outputs": [],
   "source": [
    "control = df[df['group']=='control']\n",
    "control = control.reset_index()"
   ]
  },
  {
   "cell_type": "code",
   "execution_count": 6,
   "id": "f6701b89",
   "metadata": {},
   "outputs": [
    {
     "data": {
      "text/plain": [
       "0.3097463284379172"
      ]
     },
     "execution_count": 6,
     "metadata": {},
     "output_type": "execute_result"
    }
   ],
   "source": [
    "experiment_unique_views = experiment[experiment['action'] == 'view']['id'].nunique()\n",
    "experiment_unique_clicks = experiment[experiment['action'] == 'click']['id'].nunique()\n",
    "\n",
    "experiment_ctr = experiment_unique_clicks / experiment_unique_views\n",
    "experiment_ctr"
   ]
  },
  {
   "cell_type": "code",
   "execution_count": 7,
   "id": "197c9460",
   "metadata": {},
   "outputs": [
    {
     "data": {
      "text/plain": [
       "0.2797118847539016"
      ]
     },
     "execution_count": 7,
     "metadata": {},
     "output_type": "execute_result"
    }
   ],
   "source": [
    "control_unique_views = control[control['action'] == 'view']['id'].nunique()\n",
    "control_unique_clicks = control[control['action'] == 'click']['id'].nunique()\n",
    "\n",
    "control_ctr = control_unique_clicks / control_unique_views\n",
    "control_ctr"
   ]
  },
  {
   "cell_type": "code",
   "execution_count": 8,
   "id": "570671de",
   "metadata": {},
   "outputs": [
    {
     "data": {
      "text/plain": [
       "0.030034443684015644"
      ]
     },
     "execution_count": 8,
     "metadata": {},
     "output_type": "execute_result"
    }
   ],
   "source": [
    "diff_obs = experiment_ctr - control_ctr\n",
    "diff_obs"
   ]
  },
  {
   "cell_type": "markdown",
   "id": "c3dfcf58",
   "metadata": {},
   "source": [
    "To test the significance of our result, we will do some bootstraping of the previous experiment."
   ]
  },
  {
   "cell_type": "code",
   "execution_count": 9,
   "id": "336aac6e",
   "metadata": {},
   "outputs": [],
   "source": [
    "#experiment_crt_bootstrap = []\n",
    "#control_crt_bootstrap = []\n",
    "diff = []\n",
    "\n",
    "for i in range(10000):\n",
    "    df_sample = df.sample(df.shape[0], replace=True)\n",
    "    experiment = df_sample[df_sample['group']=='experiment']\n",
    "    control = df_sample[df_sample['group']=='control']\n",
    "\n",
    "    experiment_unique_views = experiment[experiment['action'] == 'view']['id'].nunique()\n",
    "    experiment_unique_clicks = experiment[experiment['action'] == 'click']['id'].nunique()\n",
    "\n",
    "    experiment_ctr = experiment_unique_clicks / experiment_unique_views\n",
    "    #experiment_crt_bootstrap.append(experiment_ctr)\n",
    "    \n",
    "    control_unique_views = control[control['action'] == 'view']['id'].nunique()\n",
    "    control_unique_clicks = control[control['action'] == 'click']['id'].nunique()\n",
    "\n",
    "    control_ctr = control_unique_clicks / control_unique_views\n",
    "    #control_crt_bootstrap.append(control_ctr)\n",
    "    diff.append(experiment_ctr - control_ctr)"
   ]
  },
  {
   "cell_type": "code",
   "execution_count": 10,
   "id": "e959d937",
   "metadata": {},
   "outputs": [
    {
     "data": {
      "image/png": "[encoded data removed]",
      "text/plain": [
       "<Figure size 432x288 with 1 Axes>"
      ]
     },
     "metadata": {
      "needs_background": "light"
     },
     "output_type": "display_data"
    }
   ],
   "source": [
    "sns.histplot(diff, color='blue')\n",
    "plt.axvline(x=diff_obs, color='red', linestyle='--')\n",
    "plt.show()"
   ]
  },
  {
   "cell_type": "code",
   "execution_count": 11,
   "id": "fdb707b5",
   "metadata": {},
   "outputs": [],
   "source": [
    "std = np.std(diff)\n",
    "null = np.random.normal(0.0, std, df.shape[0])"
   ]
  },
  {
   "cell_type": "code",
   "execution_count": 12,
   "id": "5dcfc5ea",
   "metadata": {},
   "outputs": [
    {
     "data": {
      "image/png": "[encoded data removed]",
      "text/plain": [
       "<Figure size 432x288 with 1 Axes>"
      ]
     },
     "metadata": {
      "needs_background": "light"
     },
     "output_type": "display_data"
    }
   ],
   "source": [
    "sns.histplot(null, color='blue')\n",
    "plt.axvline(x=diff_obs, color='red', linestyle='--')\n",
    "plt.show()"
   ]
  },
  {
   "cell_type": "code",
   "execution_count": 13,
   "id": "42680e73",
   "metadata": {},
   "outputs": [
    {
     "data": {
      "text/plain": [
       "0.004885197850512946"
      ]
     },
     "execution_count": 13,
     "metadata": {},
     "output_type": "execute_result"
    }
   ],
   "source": [
    "p_enroll = (np.array(null)>diff_obs).mean()\n",
    "p_enroll"
   ]
  },
  {
   "cell_type": "markdown",
   "id": "33b21e83",
   "metadata": {},
   "source": [
    "From this results we see that our p-value is very small (less than 0.01) which confirm that our statistic is unlikly to come from the null hypothesis, therefore we can reject the null."
   ]
  },
  {
   "cell_type": "markdown",
   "id": "6499f6a5",
   "metadata": {},
   "source": [
    "## A/B Testing Example: Multiple metrics\n",
    "The second change Audacity is A/B testing is a more career focused description on a course overview page. They hope that this change may encourage more users to enroll and complete this course. In this experiment, we’re going to analyze the following metrics:\n",
    "\n",
    "* **Enrollment Rate:** Click through rate for the Enroll button the course overview page\n",
    "* **Average Reading Duration:** Average number of seconds spent on the course overview page\n",
    "* **Average Classroom Time:** Average number of days spent in the classroom for students enrolled in the course\n",
    "* **Completion Rate:** Course completion rate for students enrolled in the course"
   ]
  },
  {
   "cell_type": "code",
   "execution_count": 14,
   "id": "29f351a2",
   "metadata": {},
   "outputs": [
    {
     "name": "stdout",
     "output_type": "stream",
     "text": [
      "--2022-05-21 11:55:18--  https://raw.githubusercontent.com/xinghuang-gao/a_b_testing_webpage_conversion/master/course_page_actions.csv\n",
      "Resolving raw.githubusercontent.com (raw.githubusercontent.com)... 185.199.111.133, 185.199.110.133, 185.199.109.133, ...\n",
      "Connecting to raw.githubusercontent.com (raw.githubusercontent.com)|185.199.111.133|:443... connected.\n",
      "HTTP request sent, awaiting response... 200 OK\n",
      "Length: 274203 (268K) [text/plain]\n",
      "Saving to: ‘course_page_actions.csv’\n",
      "\n",
      "course_page_actions 100%[===================>] 267.78K  51.6KB/s    in 5.2s    \n",
      "\n",
      "2022-05-21 11:55:25 (51.6 KB/s) - ‘course_page_actions.csv’ saved [274203/274203]\n",
      "\n"
     ]
    }
   ],
   "source": [
    "! wget 'https://raw.githubusercontent.com/xinghuang-gao/a_b_testing_webpage_conversion/master/course_page_actions.csv'"
   ]
  },
  {
   "cell_type": "code",
   "execution_count": 15,
   "id": "ab0a3946",
   "metadata": {},
   "outputs": [],
   "source": [
    "df =pd.read_csv('course_page_actions.csv')"
   ]
  },
  {
   "cell_type": "markdown",
   "id": "97275d41",
   "metadata": {},
   "source": [
    "### Average Reading Duration\n",
    "Average number of seconds spent on the course overview page"
   ]
  },
  {
   "cell_type": "code",
   "execution_count": 16,
   "id": "0f5151b5",
   "metadata": {},
   "outputs": [
    {
     "data": {
      "text/html": [
       "<div>\n",
       "<style scoped>\n",
       "    .dataframe tbody tr th:only-of-type {\n",
       "        vertical-align: middle;\n",
       "    }\n",
       "\n",
       "    .dataframe tbody tr th {\n",
       "        vertical-align: top;\n",
       "    }\n",
       "\n",
       "    .dataframe thead th {\n",
       "        text-align: right;\n",
       "    }\n",
       "</style>\n",
       "<table border=\"1\" class=\"dataframe\">\n",
       "  <thead>\n",
       "    <tr style=\"text-align: right;\">\n",
       "      <th></th>\n",
       "      <th>id</th>\n",
       "      <th>group</th>\n",
       "      <th>duration</th>\n",
       "    </tr>\n",
       "  </thead>\n",
       "  <tbody>\n",
       "    <tr>\n",
       "      <th>0</th>\n",
       "      <td>183260</td>\n",
       "      <td>control</td>\n",
       "      <td>107.331484</td>\n",
       "    </tr>\n",
       "    <tr>\n",
       "      <th>1</th>\n",
       "      <td>183615</td>\n",
       "      <td>experiment</td>\n",
       "      <td>24.627594</td>\n",
       "    </tr>\n",
       "    <tr>\n",
       "      <th>2</th>\n",
       "      <td>184277</td>\n",
       "      <td>experiment</td>\n",
       "      <td>193.212489</td>\n",
       "    </tr>\n",
       "    <tr>\n",
       "      <th>3</th>\n",
       "      <td>184360</td>\n",
       "      <td>experiment</td>\n",
       "      <td>226.586283</td>\n",
       "    </tr>\n",
       "    <tr>\n",
       "      <th>4</th>\n",
       "      <td>184589</td>\n",
       "      <td>experiment</td>\n",
       "      <td>12.052097</td>\n",
       "    </tr>\n",
       "    <tr>\n",
       "      <th>...</th>\n",
       "      <td>...</td>\n",
       "      <td>...</td>\n",
       "      <td>...</td>\n",
       "    </tr>\n",
       "    <tr>\n",
       "      <th>3226</th>\n",
       "      <td>936970</td>\n",
       "      <td>experiment</td>\n",
       "      <td>8.178883</td>\n",
       "    </tr>\n",
       "    <tr>\n",
       "      <th>3227</th>\n",
       "      <td>936988</td>\n",
       "      <td>control</td>\n",
       "      <td>138.850240</td>\n",
       "    </tr>\n",
       "    <tr>\n",
       "      <th>3228</th>\n",
       "      <td>937001</td>\n",
       "      <td>control</td>\n",
       "      <td>117.341754</td>\n",
       "    </tr>\n",
       "    <tr>\n",
       "      <th>3229</th>\n",
       "      <td>937035</td>\n",
       "      <td>experiment</td>\n",
       "      <td>38.500533</td>\n",
       "    </tr>\n",
       "    <tr>\n",
       "      <th>3230</th>\n",
       "      <td>937292</td>\n",
       "      <td>experiment</td>\n",
       "      <td>70.907012</td>\n",
       "    </tr>\n",
       "  </tbody>\n",
       "</table>\n",
       "<p>3231 rows × 3 columns</p>\n",
       "</div>"
      ],
      "text/plain": [
       "          id       group    duration\n",
       "0     183260     control  107.331484\n",
       "1     183615  experiment   24.627594\n",
       "2     184277  experiment  193.212489\n",
       "3     184360  experiment  226.586283\n",
       "4     184589  experiment   12.052097\n",
       "...      ...         ...         ...\n",
       "3226  936970  experiment    8.178883\n",
       "3227  936988     control  138.850240\n",
       "3228  937001     control  117.341754\n",
       "3229  937035  experiment   38.500533\n",
       "3230  937292  experiment   70.907012\n",
       "\n",
       "[3231 rows x 3 columns]"
      ]
     },
     "execution_count": 16,
     "metadata": {},
     "output_type": "execute_result"
    }
   ],
   "source": [
    "reading_times = df[df['action'] == 'view'].groupby(['id', 'group']).mean()\n",
    "reading_times = reading_times.reset_index()\n",
    "reading_times"
   ]
  },
  {
   "cell_type": "code",
   "execution_count": 17,
   "id": "51380f33",
   "metadata": {},
   "outputs": [],
   "source": [
    "experiment = reading_times[reading_times['group'] == 'experiment']\n",
    "control = reading_times[reading_times['group'] == 'control']"
   ]
  },
  {
   "cell_type": "code",
   "execution_count": 18,
   "id": "07746b98",
   "metadata": {},
   "outputs": [
    {
     "data": {
      "text/plain": [
       "15.934470040394956"
      ]
     },
     "execution_count": 18,
     "metadata": {},
     "output_type": "execute_result"
    }
   ],
   "source": [
    "experiment_mean = experiment['duration'].mean()\n",
    "control_mean = control['duration'].mean()\n",
    "diff_obs = experiment_mean - control_mean\n",
    "diff_obs"
   ]
  },
  {
   "cell_type": "code",
   "execution_count": 19,
   "id": "666da897",
   "metadata": {},
   "outputs": [],
   "source": [
    "diff = []\n",
    "\n",
    "for i in range(10000):\n",
    "    df_bootstrap = df.sample(df.shape[0], replace=True)\n",
    "    reading_times = df_bootstrap[df_bootstrap['action'] == 'view'].groupby(['id', 'group']).mean()\n",
    "    reading_times = reading_times.reset_index()\n",
    "    \n",
    "    experiment = reading_times[reading_times['group'] == 'experiment']\n",
    "    control = reading_times[reading_times['group'] == 'control']\n",
    "    \n",
    "    experiment_mean = experiment['duration'].mean()\n",
    "    control_mean = control['duration'].mean()\n",
    "    \n",
    "    diff.append(experiment_mean - control_mean)"
   ]
  },
  {
   "cell_type": "code",
   "execution_count": 20,
   "id": "db73f813",
   "metadata": {},
   "outputs": [
    {
     "data": {
      "image/png": "[encoded data removed]",
      "text/plain": [
       "<Figure size 432x288 with 1 Axes>"
      ]
     },
     "metadata": {
      "needs_background": "light"
     },
     "output_type": "display_data"
    }
   ],
   "source": [
    "sns.histplot(diff)\n",
    "plt.axvline(x=diff_obs, color='red', linestyle='--')\n",
    "plt.show()"
   ]
  },
  {
   "cell_type": "code",
   "execution_count": 21,
   "id": "018b84a5",
   "metadata": {},
   "outputs": [],
   "source": [
    "null = np.random.normal(0.0, np.std(diff), df.shape[0])"
   ]
  },
  {
   "cell_type": "code",
   "execution_count": 22,
   "id": "71d37765",
   "metadata": {},
   "outputs": [
    {
     "data": {
      "image/png": "[encoded data removed]",
      "text/plain": [
       "<Figure size 432x288 with 1 Axes>"
      ]
     },
     "metadata": {
      "needs_background": "light"
     },
     "output_type": "display_data"
    }
   ],
   "source": [
    "sns.histplot(null)\n",
    "plt.axvline(x=diff_obs, color='red', linestyle='--')\n",
    "plt.show()"
   ]
  },
  {
   "cell_type": "code",
   "execution_count": 23,
   "id": "afde61c9",
   "metadata": {},
   "outputs": [
    {
     "data": {
      "text/plain": [
       "0.0"
      ]
     },
     "execution_count": 23,
     "metadata": {},
     "output_type": "execute_result"
    }
   ],
   "source": [
    "p_reading = (np.array(null)>diff_obs).mean()\n",
    "p_reading"
   ]
  },
  {
   "cell_type": "markdown",
   "id": "496c89ff",
   "metadata": {},
   "source": [
    "We can see that our p-value is less than 0.01 or is very far away from our null distribution, therefore we can reject the null hypothesis."
   ]
  },
  {
   "cell_type": "markdown",
   "id": "6ab1fc05",
   "metadata": {},
   "source": [
    "## Average Classroom Time\n",
    "Average number of days spent in the classroom for students enrolled in the course"
   ]
  },
  {
   "cell_type": "code",
   "execution_count": 24,
   "id": "5bfa9125",
   "metadata": {},
   "outputs": [
    {
     "name": "stdout",
     "output_type": "stream",
     "text": [
      "--2022-05-21 11:56:20--  https://raw.githubusercontent.com/xinghuang-gao/a_b_testing_webpage_conversion/master/classroom_actions.csv\n",
      "Resolving raw.githubusercontent.com (raw.githubusercontent.com)... 185.199.111.133, 185.199.110.133, 185.199.109.133, ...\n",
      "Connecting to raw.githubusercontent.com (raw.githubusercontent.com)|185.199.111.133|:443... connected.\n",
      "HTTP request sent, awaiting response... 200 OK\n",
      "Length: 200883 (196K) [text/plain]\n",
      "Saving to: ‘classroom_actions.csv’\n",
      "\n",
      "classroom_actions.c 100%[===================>] 196.17K  61.0KB/s    in 3.2s    \n",
      "\n",
      "2022-05-21 11:56:28 (61.0 KB/s) - ‘classroom_actions.csv’ saved [200883/200883]\n",
      "\n"
     ]
    }
   ],
   "source": [
    "! wget 'https://raw.githubusercontent.com/xinghuang-gao/a_b_testing_webpage_conversion/master/classroom_actions.csv'"
   ]
  },
  {
   "cell_type": "code",
   "execution_count": 25,
   "id": "6269826b",
   "metadata": {},
   "outputs": [],
   "source": [
    "df = pd.read_csv('classroom_actions.csv')"
   ]
  },
  {
   "cell_type": "code",
   "execution_count": 26,
   "id": "9d580cb5",
   "metadata": {},
   "outputs": [
    {
     "data": {
      "text/html": [
       "<div>\n",
       "<style scoped>\n",
       "    .dataframe tbody tr th:only-of-type {\n",
       "        vertical-align: middle;\n",
       "    }\n",
       "\n",
       "    .dataframe tbody tr th {\n",
       "        vertical-align: top;\n",
       "    }\n",
       "\n",
       "    .dataframe thead th {\n",
       "        text-align: right;\n",
       "    }\n",
       "</style>\n",
       "<table border=\"1\" class=\"dataframe\">\n",
       "  <thead>\n",
       "    <tr style=\"text-align: right;\">\n",
       "      <th></th>\n",
       "      <th>timestamp</th>\n",
       "      <th>id</th>\n",
       "      <th>group</th>\n",
       "      <th>total_days</th>\n",
       "      <th>completed</th>\n",
       "    </tr>\n",
       "  </thead>\n",
       "  <tbody>\n",
       "    <tr>\n",
       "      <th>0</th>\n",
       "      <td>2015-08-10 17:06:01.032740</td>\n",
       "      <td>610019</td>\n",
       "      <td>experiment</td>\n",
       "      <td>97</td>\n",
       "      <td>True</td>\n",
       "    </tr>\n",
       "    <tr>\n",
       "      <th>1</th>\n",
       "      <td>2015-08-10 17:15:28.950975</td>\n",
       "      <td>690224</td>\n",
       "      <td>control</td>\n",
       "      <td>75</td>\n",
       "      <td>False</td>\n",
       "    </tr>\n",
       "    <tr>\n",
       "      <th>2</th>\n",
       "      <td>2015-08-10 17:34:40.920384</td>\n",
       "      <td>564994</td>\n",
       "      <td>experiment</td>\n",
       "      <td>128</td>\n",
       "      <td>True</td>\n",
       "    </tr>\n",
       "    <tr>\n",
       "      <th>3</th>\n",
       "      <td>2015-08-10 17:50:39.847374</td>\n",
       "      <td>849588</td>\n",
       "      <td>experiment</td>\n",
       "      <td>66</td>\n",
       "      <td>False</td>\n",
       "    </tr>\n",
       "    <tr>\n",
       "      <th>4</th>\n",
       "      <td>2015-08-10 19:10:40.650599</td>\n",
       "      <td>849826</td>\n",
       "      <td>experiment</td>\n",
       "      <td>34</td>\n",
       "      <td>False</td>\n",
       "    </tr>\n",
       "    <tr>\n",
       "      <th>...</th>\n",
       "      <td>...</td>\n",
       "      <td>...</td>\n",
       "      <td>...</td>\n",
       "      <td>...</td>\n",
       "      <td>...</td>\n",
       "    </tr>\n",
       "    <tr>\n",
       "      <th>3824</th>\n",
       "      <td>2016-01-19 09:26:08.197754</td>\n",
       "      <td>364453</td>\n",
       "      <td>experiment</td>\n",
       "      <td>63</td>\n",
       "      <td>False</td>\n",
       "    </tr>\n",
       "    <tr>\n",
       "      <th>3825</th>\n",
       "      <td>2016-01-19 13:03:23.000822</td>\n",
       "      <td>519239</td>\n",
       "      <td>control</td>\n",
       "      <td>87</td>\n",
       "      <td>True</td>\n",
       "    </tr>\n",
       "    <tr>\n",
       "      <th>3826</th>\n",
       "      <td>2016-01-19 13:57:27.787897</td>\n",
       "      <td>508316</td>\n",
       "      <td>experiment</td>\n",
       "      <td>103</td>\n",
       "      <td>True</td>\n",
       "    </tr>\n",
       "    <tr>\n",
       "      <th>3827</th>\n",
       "      <td>2016-01-19 14:54:40.124679</td>\n",
       "      <td>244124</td>\n",
       "      <td>control</td>\n",
       "      <td>73</td>\n",
       "      <td>False</td>\n",
       "    </tr>\n",
       "    <tr>\n",
       "      <th>3828</th>\n",
       "      <td>2016-01-19 15:21:31.634379</td>\n",
       "      <td>511677</td>\n",
       "      <td>experiment</td>\n",
       "      <td>86</td>\n",
       "      <td>True</td>\n",
       "    </tr>\n",
       "  </tbody>\n",
       "</table>\n",
       "<p>3829 rows × 5 columns</p>\n",
       "</div>"
      ],
      "text/plain": [
       "                       timestamp      id       group  total_days  completed\n",
       "0     2015-08-10 17:06:01.032740  610019  experiment          97       True\n",
       "1     2015-08-10 17:15:28.950975  690224     control          75      False\n",
       "2     2015-08-10 17:34:40.920384  564994  experiment         128       True\n",
       "3     2015-08-10 17:50:39.847374  849588  experiment          66      False\n",
       "4     2015-08-10 19:10:40.650599  849826  experiment          34      False\n",
       "...                          ...     ...         ...         ...        ...\n",
       "3824  2016-01-19 09:26:08.197754  364453  experiment          63      False\n",
       "3825  2016-01-19 13:03:23.000822  519239     control          87       True\n",
       "3826  2016-01-19 13:57:27.787897  508316  experiment         103       True\n",
       "3827  2016-01-19 14:54:40.124679  244124     control          73      False\n",
       "3828  2016-01-19 15:21:31.634379  511677  experiment          86       True\n",
       "\n",
       "[3829 rows x 5 columns]"
      ]
     },
     "execution_count": 26,
     "metadata": {},
     "output_type": "execute_result"
    }
   ],
   "source": [
    "df"
   ]
  },
  {
   "cell_type": "code",
   "execution_count": 27,
   "id": "ba467ec2",
   "metadata": {},
   "outputs": [],
   "source": [
    "classroom_times = df.groupby(['id', 'group']).mean()\n",
    "classroom_times = classroom_times.reset_index()\n",
    "#classroom_times['duration_days'] = classroom_times['duration']#/(60*60*24)"
   ]
  },
  {
   "cell_type": "code",
   "execution_count": 28,
   "id": "c551e4c7",
   "metadata": {},
   "outputs": [],
   "source": [
    "experiment = classroom_times[classroom_times['group'] == 'experiment']\n",
    "control = classroom_times[classroom_times['group'] == 'control']"
   ]
  },
  {
   "cell_type": "code",
   "execution_count": 29,
   "id": "26f9c5fd",
   "metadata": {},
   "outputs": [
    {
     "data": {
      "text/plain": [
       "1.3026031488719099"
      ]
     },
     "execution_count": 29,
     "metadata": {},
     "output_type": "execute_result"
    }
   ],
   "source": [
    "experiment_mean = experiment['total_days'].mean()\n",
    "control_mean = control['total_days'].mean()\n",
    "diff_obs = experiment_mean - control_mean\n",
    "diff_obs"
   ]
  },
  {
   "cell_type": "code",
   "execution_count": 30,
   "id": "98fd966e",
   "metadata": {},
   "outputs": [],
   "source": [
    "diff = []\n",
    "\n",
    "for i in range(10000):\n",
    "    df_bootstrap = df.sample(df.shape[0], replace=True)\n",
    "    classroom_times = df_bootstrap.groupby(['id', 'group']).mean()\n",
    "    classroom_times = classroom_times.reset_index()\n",
    "    \n",
    "    experiment = classroom_times[classroom_times['group'] == 'experiment']\n",
    "    control = classroom_times[classroom_times['group'] == 'control']\n",
    "    \n",
    "    experiment_mean = experiment['total_days'].mean()\n",
    "    control_mean = control['total_days'].mean()\n",
    "    \n",
    "    diff.append(experiment_mean - control_mean)"
   ]
  },
  {
   "cell_type": "code",
   "execution_count": 31,
   "id": "ca48f233",
   "metadata": {},
   "outputs": [
    {
     "data": {
      "text/plain": [
       "1.3009047774828644"
      ]
     },
     "execution_count": 31,
     "metadata": {},
     "output_type": "execute_result"
    }
   ],
   "source": [
    "np.mean(diff)"
   ]
  },
  {
   "cell_type": "code",
   "execution_count": 32,
   "id": "56aeff11",
   "metadata": {},
   "outputs": [],
   "source": [
    "null = np.random.normal(0.0, np.std(diff), df.shape[0])"
   ]
  },
  {
   "cell_type": "code",
   "execution_count": 33,
   "id": "a4e7e847",
   "metadata": {},
   "outputs": [
    {
     "data": {
      "image/png": "[encoded data removed]",
      "text/plain": [
       "<Figure size 432x288 with 1 Axes>"
      ]
     },
     "metadata": {
      "needs_background": "light"
     },
     "output_type": "display_data"
    }
   ],
   "source": [
    "sns.histplot(null)\n",
    "plt.axvline(x=diff_obs, color='red', linestyle='--')\n",
    "plt.show()"
   ]
  },
  {
   "cell_type": "code",
   "execution_count": 34,
   "id": "3aed8694",
   "metadata": {},
   "outputs": [
    {
     "data": {
      "text/plain": [
       "0.009401932619482894"
      ]
     },
     "execution_count": 34,
     "metadata": {},
     "output_type": "execute_result"
    }
   ],
   "source": [
    "p_classroom = (np.array(null)>diff_obs).mean()\n",
    "p_classroom"
   ]
  },
  {
   "cell_type": "markdown",
   "id": "18b68604",
   "metadata": {},
   "source": [
    "The p-value obtained shows that we can reject the null hypothesis for a $\\alpha$ value of 0.01."
   ]
  },
  {
   "cell_type": "markdown",
   "id": "305deb88",
   "metadata": {},
   "source": [
    "### Completion Rate\n",
    "Course completion rate for students enrolled in the course"
   ]
  },
  {
   "cell_type": "code",
   "execution_count": 35,
   "id": "5d5de8cb",
   "metadata": {},
   "outputs": [],
   "source": [
    "experiment = df[df['group']=='experiment']\n",
    "control = df[df['group']=='control']"
   ]
  },
  {
   "cell_type": "code",
   "execution_count": 36,
   "id": "83fe4fa6",
   "metadata": {},
   "outputs": [
    {
     "data": {
      "text/plain": [
       "0.3935334872979215"
      ]
     },
     "execution_count": 36,
     "metadata": {},
     "output_type": "execute_result"
    }
   ],
   "source": [
    "#experiment_cr = experiment[experiment['completed']==True]['id'].nunique() / experiment['id'].nunique()\n",
    "experiment_cr = experiment['completed'].mean()\n",
    "\n",
    "experiment_cr"
   ]
  },
  {
   "cell_type": "code",
   "execution_count": 37,
   "id": "59733bda",
   "metadata": {},
   "outputs": [
    {
     "data": {
      "text/plain": [
       "0.3719951923076923"
      ]
     },
     "execution_count": 37,
     "metadata": {},
     "output_type": "execute_result"
    }
   ],
   "source": [
    "#control_cr = control[control['completed']==True]['id'].nunique() / control['id'].nunique()\n",
    "control_cr = control['completed'].mean()\n",
    "control_cr"
   ]
  },
  {
   "cell_type": "code",
   "execution_count": 38,
   "id": "ab805ac7",
   "metadata": {},
   "outputs": [
    {
     "data": {
      "text/plain": [
       "0.02153829499022919"
      ]
     },
     "execution_count": 38,
     "metadata": {},
     "output_type": "execute_result"
    }
   ],
   "source": [
    "diff_obs = experiment_cr - control_cr\n",
    "diff_obs"
   ]
  },
  {
   "cell_type": "code",
   "execution_count": 39,
   "id": "31672413",
   "metadata": {},
   "outputs": [],
   "source": [
    "diff = []\n",
    "\n",
    "for i in range(10000):\n",
    "    df_bootstrap = df.sample(df.shape[0], replace=True)\n",
    "    experiment = df_bootstrap[df_bootstrap['group']=='experiment']\n",
    "    control = df_bootstrap[df_bootstrap['group']=='control']\n",
    "    \n",
    "    #experiment_cr = experiment[experiment['completed']==True]['id'].nunique() / experiment['id'].nunique()\n",
    "    #control_cr = control[control['completed']==True]['id'].nunique() / control['id'].nunique()\n",
    "    experiment_cr = experiment['completed'].mean()\n",
    "    control_cr = control['completed'].mean()\n",
    "\n",
    "    diff.append(experiment_cr - control_cr)"
   ]
  },
  {
   "cell_type": "code",
   "execution_count": 40,
   "id": "30a0f19c",
   "metadata": {},
   "outputs": [],
   "source": [
    "null = np.random.normal(0.0, np.std(diff), df.shape[0])"
   ]
  },
  {
   "cell_type": "code",
   "execution_count": 41,
   "id": "044a6ef3",
   "metadata": {},
   "outputs": [
    {
     "data": {
      "image/png": "[encoded data removed]",
      "text/plain": [
       "<Figure size 432x288 with 1 Axes>"
      ]
     },
     "metadata": {
      "needs_background": "light"
     },
     "output_type": "display_data"
    }
   ],
   "source": [
    "sns.histplot(null)\n",
    "plt.axvline(x=diff_obs, color='red', linestyle='--')\n",
    "plt.show()"
   ]
  },
  {
   "cell_type": "code",
   "execution_count": 42,
   "id": "b9bd6206",
   "metadata": {},
   "outputs": [
    {
     "data": {
      "text/plain": [
       "0.08696787673021676"
      ]
     },
     "execution_count": 42,
     "metadata": {},
     "output_type": "execute_result"
    }
   ],
   "source": [
    "p_completion = (np.array(null)>diff_obs).mean()\n",
    "p_completion"
   ]
  },
  {
   "cell_type": "markdown",
   "id": "fbe8f3b7",
   "metadata": {},
   "source": [
    "The p-value obtained here shows that we can't reject the null hypothesis or there's no statistical significance on our results."
   ]
  },
  {
   "cell_type": "markdown",
   "id": "b219b131",
   "metadata": {},
   "source": [
    "## Summary:\n",
    "The following table shows the results obtained before."
   ]
  },
  {
   "cell_type": "code",
   "execution_count": 54,
   "id": "fda25665",
   "metadata": {},
   "outputs": [],
   "source": [
    "p_val = np.array([p_enroll, p_reading, p_classroom, p_completion])\n",
    "names = ['enrollment', 'reading_duration', 'classroom_time', 'completion_rate']"
   ]
  },
  {
   "cell_type": "code",
   "execution_count": 55,
   "id": "739dffe6",
   "metadata": {},
   "outputs": [],
   "source": [
    "p_df = pd.DataFrame(names, columns=['names'])\n",
    "p_df['p_val'] = p_val"
   ]
  },
  {
   "cell_type": "code",
   "execution_count": 57,
   "id": "f99583a7",
   "metadata": {},
   "outputs": [],
   "source": [
    "alpha = 0.01"
   ]
  },
  {
   "cell_type": "code",
   "execution_count": 60,
   "id": "9b20c878",
   "metadata": {},
   "outputs": [],
   "source": [
    "p_df['significative'] = p_df['p_val']<alpha"
   ]
  },
  {
   "cell_type": "code",
   "execution_count": 61,
   "id": "3b5ac058",
   "metadata": {},
   "outputs": [
    {
     "data": {
      "text/html": [
       "<div>\n",
       "<style scoped>\n",
       "    .dataframe tbody tr th:only-of-type {\n",
       "        vertical-align: middle;\n",
       "    }\n",
       "\n",
       "    .dataframe tbody tr th {\n",
       "        vertical-align: top;\n",
       "    }\n",
       "\n",
       "    .dataframe thead th {\n",
       "        text-align: right;\n",
       "    }\n",
       "</style>\n",
       "<table border=\"1\" class=\"dataframe\">\n",
       "  <thead>\n",
       "    <tr style=\"text-align: right;\">\n",
       "      <th></th>\n",
       "      <th>names</th>\n",
       "      <th>p_val</th>\n",
       "      <th>significative</th>\n",
       "    </tr>\n",
       "  </thead>\n",
       "  <tbody>\n",
       "    <tr>\n",
       "      <th>0</th>\n",
       "      <td>enrollment</td>\n",
       "      <td>0.004885</td>\n",
       "      <td>True</td>\n",
       "    </tr>\n",
       "    <tr>\n",
       "      <th>1</th>\n",
       "      <td>reading_duration</td>\n",
       "      <td>0.000000</td>\n",
       "      <td>True</td>\n",
       "    </tr>\n",
       "    <tr>\n",
       "      <th>2</th>\n",
       "      <td>classroom_time</td>\n",
       "      <td>0.009402</td>\n",
       "      <td>True</td>\n",
       "    </tr>\n",
       "    <tr>\n",
       "      <th>3</th>\n",
       "      <td>completion_rate</td>\n",
       "      <td>0.086968</td>\n",
       "      <td>False</td>\n",
       "    </tr>\n",
       "  </tbody>\n",
       "</table>\n",
       "</div>"
      ],
      "text/plain": [
       "              names     p_val  significative\n",
       "0        enrollment  0.004885           True\n",
       "1  reading_duration  0.000000           True\n",
       "2    classroom_time  0.009402           True\n",
       "3   completion_rate  0.086968          False"
      ]
     },
     "execution_count": 61,
     "metadata": {},
     "output_type": "execute_result"
    }
   ],
   "source": [
    "p_df"
   ]
  },
  {
   "cell_type": "markdown",
   "id": "57bfdd03",
   "metadata": {},
   "source": [
    "## Bonferroni Correction\n",
    "The Bonferroni Correction is one way we could handle experiments with multiple tests, or metrics in this case. To compute the new bonferroni correct alpha value, we need to divide the original alpha value by the number of tests."
   ]
  },
  {
   "cell_type": "code",
   "execution_count": 64,
   "id": "5b8598bd",
   "metadata": {},
   "outputs": [],
   "source": [
    "p_df = p_df.drop(columns=['significative'])"
   ]
  },
  {
   "cell_type": "code",
   "execution_count": 66,
   "id": "4f41475a",
   "metadata": {},
   "outputs": [],
   "source": [
    "p_df['significative-Benferroni'] = p_df['p_val']<(alpha/4)"
   ]
  },
  {
   "cell_type": "code",
   "execution_count": 68,
   "id": "00d2cadf",
   "metadata": {},
   "outputs": [
    {
     "data": {
      "text/html": [
       "<div>\n",
       "<style scoped>\n",
       "    .dataframe tbody tr th:only-of-type {\n",
       "        vertical-align: middle;\n",
       "    }\n",
       "\n",
       "    .dataframe tbody tr th {\n",
       "        vertical-align: top;\n",
       "    }\n",
       "\n",
       "    .dataframe thead th {\n",
       "        text-align: right;\n",
       "    }\n",
       "</style>\n",
       "<table border=\"1\" class=\"dataframe\">\n",
       "  <thead>\n",
       "    <tr style=\"text-align: right;\">\n",
       "      <th></th>\n",
       "      <th>names</th>\n",
       "      <th>p_val</th>\n",
       "      <th>significative-Benferroni</th>\n",
       "    </tr>\n",
       "  </thead>\n",
       "  <tbody>\n",
       "    <tr>\n",
       "      <th>0</th>\n",
       "      <td>enrollment</td>\n",
       "      <td>0.004885</td>\n",
       "      <td>False</td>\n",
       "    </tr>\n",
       "    <tr>\n",
       "      <th>1</th>\n",
       "      <td>reading_duration</td>\n",
       "      <td>0.000000</td>\n",
       "      <td>True</td>\n",
       "    </tr>\n",
       "    <tr>\n",
       "      <th>2</th>\n",
       "      <td>classroom_time</td>\n",
       "      <td>0.009402</td>\n",
       "      <td>False</td>\n",
       "    </tr>\n",
       "    <tr>\n",
       "      <th>3</th>\n",
       "      <td>completion_rate</td>\n",
       "      <td>0.086968</td>\n",
       "      <td>False</td>\n",
       "    </tr>\n",
       "  </tbody>\n",
       "</table>\n",
       "</div>"
      ],
      "text/plain": [
       "              names     p_val  significative-Benferroni\n",
       "0        enrollment  0.004885                     False\n",
       "1  reading_duration  0.000000                      True\n",
       "2    classroom_time  0.009402                     False\n",
       "3   completion_rate  0.086968                     False"
      ]
     },
     "execution_count": 68,
     "metadata": {},
     "output_type": "execute_result"
    }
   ],
   "source": [
    "p_df"
   ]
  },
  {
   "cell_type": "code",
   "execution_count": null,
   "id": "c5fe5b2a",
   "metadata": {},
   "outputs": [],
   "source": []
  }
 ],
 "metadata": {
  "kernelspec": {
   "display_name": "Python 3 (ipykernel)",
   "language": "python",
   "name": "python3"
  },
  "language_info": {
   "codemirror_mode": {
    "name": "ipython",
    "version": 3
   },
   "file_extension": ".py",
   "mimetype": "text/x-python",
   "name": "python",
   "nbconvert_exporter": "python",
   "pygments_lexer": "ipython3",
   "version": "3.8.12"
  }
 },
 "nbformat": 4,
 "nbformat_minor": 5
}
