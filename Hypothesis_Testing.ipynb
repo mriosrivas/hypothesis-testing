{
 "cells": [
  {
   "cell_type": "code",
   "execution_count": 1,
   "id": "ca9df53e",
   "metadata": {},
   "outputs": [],
   "source": [
    "import numpy as np\n",
    "import matplotlib.pyplot as plt\n",
    "import seaborn as sns"
   ]
  },
  {
   "cell_type": "code",
   "execution_count": 2,
   "id": "fae8cc27",
   "metadata": {},
   "outputs": [],
   "source": [
    "import pandas as pd"
   ]
  },
  {
   "cell_type": "markdown",
   "id": "bd5a5a21",
   "metadata": {},
   "source": [
    "# Hypothesis Testing\n",
    "Our hypothesis is as follows:\n",
    "\n",
    "$$H_0: \\mu \\leq 70$$\n",
    "$$H_1: \\mu \\gt 70$$\n",
    "\n",
    "<br>\n",
    "<center>\n",
    "    $H_0$: The mean height of our coffee drinkers is less or equal than 70 inches. <br>\n",
    "    $H_1$: The mean height of our coffee drinkers is greater than 70 inches. \n",
    "</center>"
   ]
  },
  {
   "cell_type": "code",
   "execution_count": 3,
   "id": "012a46dd",
   "metadata": {},
   "outputs": [],
   "source": [
    "df = pd.read_csv('coffee_dataset.csv')"
   ]
  },
  {
   "cell_type": "code",
   "execution_count": 4,
   "id": "b6252075",
   "metadata": {},
   "outputs": [],
   "source": [
    "#data = df['drinks_coffee'].values.astype('int32')"
   ]
  },
  {
   "cell_type": "markdown",
   "id": "628060fe",
   "metadata": {},
   "source": [
    "## Hypothesis Testing with bootstraping:\n",
    "We want to show that if we randomly select samples of our data and calculate the distribution of the calculated means, we will be able to reject/accept the null hypothesis."
   ]
  },
  {
   "cell_type": "code",
   "execution_count": 5,
   "id": "ea071c37",
   "metadata": {},
   "outputs": [],
   "source": [
    "means = []\n",
    "for i in range(10000):\n",
    "    means.append(df.sample(150)['height'].mean())"
   ]
  },
  {
   "cell_type": "code",
   "execution_count": 6,
   "id": "4decf17a",
   "metadata": {},
   "outputs": [],
   "source": [
    "percentiles = np.percentile(means, [2.5, 97.5])"
   ]
  },
  {
   "cell_type": "code",
   "execution_count": 7,
   "id": "c15d4773",
   "metadata": {},
   "outputs": [
    {
     "data": {
      "image/png": "[encoded data removed]",
      "text/plain": [
       "<Figure size 432x288 with 1 Axes>"
      ]
     },
     "metadata": {
      "needs_background": "light"
     },
     "output_type": "display_data"
    }
   ],
   "source": [
    "sns.histplot(means)\n",
    "plt.axvline(x=percentiles[0], color='red', linestyle='--')\n",
    "plt.axvline(x=percentiles[1], color='red', linestyle='--')\n",
    "plt.show()"
   ]
  },
  {
   "cell_type": "markdown",
   "id": "5ae37712",
   "metadata": {},
   "source": [
    "We can see that with a 95% confidence interval that our mean might be below 70, so we can accept our null hypothesis."
   ]
  },
  {
   "cell_type": "markdown",
   "id": "6b287cc6",
   "metadata": {},
   "source": [
    "## Hypothesis Testing with normal distribution:\n",
    "In this case we create a normal distribution with the expected mean of 70 and compare a distribution with this mean value and one with the mean calculated."
   ]
  },
  {
   "cell_type": "code",
   "execution_count": 8,
   "id": "ca4de4c4",
   "metadata": {},
   "outputs": [],
   "source": [
    "mean = 70"
   ]
  },
  {
   "cell_type": "code",
   "execution_count": 9,
   "id": "db132d75",
   "metadata": {},
   "outputs": [],
   "source": [
    "std = np.std(means)"
   ]
  },
  {
   "cell_type": "code",
   "execution_count": 10,
   "id": "a6c233c1",
   "metadata": {},
   "outputs": [],
   "source": [
    "distribution = np.random.normal(mean, std, 10000)\n",
    "\n",
    "percentiles_distribution = np.percentile(distribution, [2.5, 97.5])"
   ]
  },
  {
   "cell_type": "code",
   "execution_count": 11,
   "id": "c31642d9",
   "metadata": {},
   "outputs": [
    {
     "data": {
      "image/png": "[encoded data removed]",
      "text/plain": [
       "<Figure size 432x288 with 1 Axes>"
      ]
     },
     "metadata": {
      "needs_background": "light"
     },
     "output_type": "display_data"
    }
   ],
   "source": [
    "sns.histplot(distribution, color='blue', label='mean=70')\n",
    "sns.histplot(means, color='orange', label='calculated')\n",
    "plt.axvline(x=percentiles[0], color='red', linestyle='--')\n",
    "plt.axvline(x=percentiles[1], color='red', linestyle='--')\n",
    "plt.axvline(x=percentiles_distribution[0], color='red', linestyle='--')\n",
    "plt.axvline(x=percentiles_distribution[1], color='red', linestyle='--')\n",
    "plt.legend()\n",
    "plt.show()"
   ]
  },
  {
   "cell_type": "markdown",
   "id": "5ea3ea60",
   "metadata": {},
   "source": [
    "We can see that if our data had a mean of 70 it would have a normal distribution like the one shown above, therefore it is more likely that our data has a mean lower than 70."
   ]
  },
  {
   "cell_type": "markdown",
   "id": "58008509",
   "metadata": {},
   "source": [
    "## Hypothesis Testing Pt.2\n",
    "Now we want to test the following:\n",
    "\n",
    "$$H_0: \\mu_{coff} = \\mu_{noncoff}$$\n",
    "$$H_1: \\mu_{coff} \\neq \\mu_{noncoff}$$\n",
    "\n",
    "<br>\n",
    "<center>\n",
    "    $H_0$: The mean height of the coffee drinkers is the same as the mean height of the non coffee drinkers. <br>\n",
    "    $H_1$: The mean height of the coffee drinkers is not the same as the mean height of the non coffee drinkers. \n",
    "</center>"
   ]
  },
  {
   "cell_type": "code",
   "execution_count": 12,
   "id": "ebf2e89d",
   "metadata": {},
   "outputs": [],
   "source": [
    "df_coffee = df[df['drinks_coffee']==True]"
   ]
  },
  {
   "cell_type": "code",
   "execution_count": 13,
   "id": "9fd37a7a",
   "metadata": {},
   "outputs": [],
   "source": [
    "df_non_coffee = df[df['drinks_coffee']==False]"
   ]
  },
  {
   "cell_type": "code",
   "execution_count": 14,
   "id": "bcad2fc1",
   "metadata": {},
   "outputs": [],
   "source": [
    "coffee_means = []\n",
    "non_coffee_means = []\n",
    "diff_means = []\n",
    "\n",
    "for i in range(10000):\n",
    "    coffee_mean = np.mean(df_coffee.sample(150)['height'])\n",
    "    non_coffee_mean = np.mean(df_non_coffee.sample(150)['height'])\n",
    "    coffee_means.append(coffee_mean)\n",
    "    non_coffee_means.append(non_coffee_mean)\n",
    "    diff_means.append(coffee_mean - non_coffee_mean)"
   ]
  },
  {
   "cell_type": "code",
   "execution_count": 15,
   "id": "016377c6",
   "metadata": {},
   "outputs": [
    {
     "data": {
      "image/png": "[encoded data removed]",
      "text/plain": [
       "<Figure size 432x288 with 1 Axes>"
      ]
     },
     "metadata": {
      "needs_background": "light"
     },
     "output_type": "display_data"
    }
   ],
   "source": [
    "sns.histplot(coffee_means, color='blue', label='coffee drinkers')\n",
    "sns.histplot(non_coffee_means, color='orange', label='non coffee drinkers')\n",
    "plt.legend()\n",
    "plt.show()"
   ]
  },
  {
   "cell_type": "markdown",
   "id": "57d4f776",
   "metadata": {},
   "source": [
    "We can see our coffee and non coffee drinkers distribution above. Below we see the calculated distribution of the difference between both distributions compared of what we will expect if the difference between both means is zero."
   ]
  },
  {
   "cell_type": "code",
   "execution_count": 16,
   "id": "476aafb4",
   "metadata": {},
   "outputs": [],
   "source": [
    "diff_normal = np.random.normal(0.0, np.std(diff_means), 10000 )"
   ]
  },
  {
   "cell_type": "code",
   "execution_count": 17,
   "id": "22830bcd",
   "metadata": {},
   "outputs": [
    {
     "data": {
      "image/png": "[encoded data removed]",
      "text/plain": [
       "<Figure size 432x288 with 1 Axes>"
      ]
     },
     "metadata": {
      "needs_background": "light"
     },
     "output_type": "display_data"
    }
   ],
   "source": [
    "sns.histplot(diff_normal, color='blue', label='Normal Distribution')\n",
    "sns.histplot(diff_means, color='orange', label='Difference of Means')\n",
    "plt.legend()\n",
    "plt.show()"
   ]
  },
  {
   "cell_type": "markdown",
   "id": "91bd56d9",
   "metadata": {},
   "source": [
    "We clearly see that our mean is not zero and therefore we can reject our null hypothesis."
   ]
  },
  {
   "cell_type": "code",
   "execution_count": 18,
   "id": "a2129765",
   "metadata": {},
   "outputs": [
    {
     "data": {
      "text/plain": [
       "1.9565221827224286"
      ]
     },
     "execution_count": 18,
     "metadata": {},
     "output_type": "execute_result"
    }
   ],
   "source": [
    "np.mean(diff_means)"
   ]
  },
  {
   "cell_type": "markdown",
   "id": "8db4fc62",
   "metadata": {},
   "source": [
    "## P-value\n",
    "The definition of a p-value is the probability of observing your statistic (or one more extreme in favor of the alternative) if the null hypothesis is true.\n",
    "\n",
    "The more extreme in favor of the alternative portion of this statement determines the shading associated with your p-value."
   ]
  },
  {
   "cell_type": "markdown",
   "id": "86767b87",
   "metadata": {},
   "source": [
    "You have the following cases:\n",
    "* If your parameter is greater than some value in the alternative hypothesis, your shading would look like this to obtain your p-value:\n",
    "\n",
    " <img src=\"p_get.png\" alt=\"p_get\" width=\"500\" height=\"600\"> \n"
   ]
  },
  {
   "cell_type": "markdown",
   "id": "b9c87501",
   "metadata": {},
   "source": [
    "If your parameter is less than some value in the alternative hypothesis, your shading would look like this to obtain your p-value:\n",
    "\n",
    " <img src=\"p_let.png\" alt=\"p_let\" width=\"500\" height=\"600\"> \n"
   ]
  },
  {
   "cell_type": "markdown",
   "id": "e1123c62",
   "metadata": {},
   "source": [
    "\n",
    "If your parameter is not equal to some value in the alternative hypothesis, your shading would look like this to obtain your p-value:\n",
    "\n",
    " <img src=\"p_neq.png\" alt=\"neq\" width=\"500\" height=\"600\"> \n"
   ]
  },
  {
   "cell_type": "markdown",
   "id": "2b89bde7",
   "metadata": {},
   "source": [
    "The process to perform a p-value test can be resumed as:\n",
    "   1. Simulate the values of your statistic that are possible from the null.\n",
    "   2. Calculate the value of the statistic you actually obtained in your data.\n",
    "   3. Compare your statistic to the values from the null.\n",
    "   4. Calculate the proportion of null values that are considered extreme based on your alternative.\n",
    "\n"
   ]
  },
  {
   "cell_type": "markdown",
   "id": "e289e5ce",
   "metadata": {},
   "source": [
    "## Hypothesis test Example:\n",
    "We will simulate how we can use the p-value to test our hypothesis."
   ]
  },
  {
   "cell_type": "code",
   "execution_count": 19,
   "id": "608fa3ee",
   "metadata": {},
   "outputs": [],
   "source": [
    "# 1. Simulate the values of your statistic that are possible from the null.\n",
    "\n",
    "means = []\n",
    "for i in range(10000):\n",
    "    means.append(df.sample(150)['height'].mean())\n",
    "\n",
    "mean = 70\n",
    "std = np.std(means)\n",
    "\n",
    "null_val = np.random.normal(mean, std, 10000)"
   ]
  },
  {
   "cell_type": "code",
   "execution_count": 20,
   "id": "de80b1c0",
   "metadata": {},
   "outputs": [],
   "source": [
    "# 2. Calculate the value of the statistic you actually obtained in your data.\n",
    "\n",
    "mu = df['height'].mean()"
   ]
  },
  {
   "cell_type": "markdown",
   "id": "d7ffc571",
   "metadata": {},
   "source": [
    "Here we decide what type of test must be performed depending on the hypothesis test. Let's first try to test the following:\n",
    "\n",
    "$$H_0: \\mu \\leq 70$$\n",
    "$$H_1: \\mu \\gt 70$$\n",
    "\n"
   ]
  },
  {
   "cell_type": "code",
   "execution_count": 21,
   "id": "e03bbadd",
   "metadata": {},
   "outputs": [
    {
     "data": {
      "text/plain": [
       "1.0"
      ]
     },
     "execution_count": 21,
     "metadata": {},
     "output_type": "execute_result"
    }
   ],
   "source": [
    "# 3. Compare your statistic to the values from the null.\n",
    "# 4. Calculate the proportion of null values that are considered extreme based on your alternative.\n",
    "\n",
    "p = (null_val > mu).mean()\n",
    "p"
   ]
  },
  {
   "cell_type": "markdown",
   "id": "c27395ab",
   "metadata": {},
   "source": [
    "The image below shows the region in which we test our p-value. As our result shows, we have strong evidence to fail to reject our null hyphotesis."
   ]
  },
  {
   "cell_type": "code",
   "execution_count": 22,
   "id": "c55b9ae8",
   "metadata": {},
   "outputs": [
    {
     "data": {
      "image/png": "[encoded data removed]",
      "text/plain": [
       "<Figure size 432x288 with 1 Axes>"
      ]
     },
     "metadata": {
      "needs_background": "light"
     },
     "output_type": "display_data"
    }
   ],
   "source": [
    "sns.histplot(null_val)\n",
    "plt.axvspan(mu, 71, alpha=0.25, color='orange')\n",
    "plt.axvline(x=mu, color='red', linestyle='--')\n",
    "plt.show()"
   ]
  },
  {
   "cell_type": "markdown",
   "id": "c32fd39e",
   "metadata": {},
   "source": [
    "Let's now try with the following hypothesis test:\n",
    "\n",
    "$$H_0: \\mu \\geq 70$$\n",
    "$$H_1: \\mu \\lt 70$$"
   ]
  },
  {
   "cell_type": "code",
   "execution_count": 23,
   "id": "0f8d1dc4",
   "metadata": {},
   "outputs": [
    {
     "data": {
      "text/plain": [
       "0.0"
      ]
     },
     "execution_count": 23,
     "metadata": {},
     "output_type": "execute_result"
    }
   ],
   "source": [
    "# 3. Compare your statistic to the values from the null.\n",
    "# 4. Calculate the proportion of null values that are considered extreme based on your alternative.\n",
    "\n",
    "p = (null_val < mu).mean()\n",
    "p"
   ]
  },
  {
   "cell_type": "code",
   "execution_count": 24,
   "id": "68a22a46",
   "metadata": {},
   "outputs": [
    {
     "data": {
      "image/png": "[encoded data removed]",
      "text/plain": [
       "<Figure size 432x288 with 1 Axes>"
      ]
     },
     "metadata": {
      "needs_background": "light"
     },
     "output_type": "display_data"
    }
   ],
   "source": [
    "sns.histplot(null_val)\n",
    "plt.axvspan(mu-0.5, mu, alpha=0.25, color='orange')\n",
    "plt.axvline(x=mu, color='red', linestyle='--')\n",
    "plt.show()"
   ]
  },
  {
   "cell_type": "markdown",
   "id": "b1488ec6",
   "metadata": {},
   "source": [
    "Now we see that our result shows that we can reject the null hypothesis."
   ]
  },
  {
   "cell_type": "markdown",
   "id": "2126b0e3",
   "metadata": {},
   "source": [
    "As a final example, let's evaluate this hypothesis:\n",
    "\n",
    "$$H_0: \\mu = 70$$\n",
    "$$H_1: \\mu \\neq 70$$"
   ]
  },
  {
   "cell_type": "code",
   "execution_count": 25,
   "id": "ffd820da",
   "metadata": {},
   "outputs": [
    {
     "data": {
      "text/plain": [
       "0.0"
      ]
     },
     "execution_count": 25,
     "metadata": {},
     "output_type": "execute_result"
    }
   ],
   "source": [
    "low = mu\n",
    "high = mean + (mean - mu)\n",
    "\n",
    "p = (null_val <= low).mean() + (null_val >= high).mean()\n",
    "p"
   ]
  },
  {
   "cell_type": "code",
   "execution_count": 26,
   "id": "2569656b",
   "metadata": {},
   "outputs": [
    {
     "data": {
      "image/png": "[encoded data removed]",
      "text/plain": [
       "<Figure size 432x288 with 1 Axes>"
      ]
     },
     "metadata": {
      "needs_background": "light"
     },
     "output_type": "display_data"
    }
   ],
   "source": [
    "sns.histplot(null_val)\n",
    "plt.axvspan(low-0.5, low, alpha=0.25, color='orange')\n",
    "plt.axvspan(high, high+0.5, alpha=0.25, color='orange')\n",
    "plt.axvline(x=low, color='red', linestyle='--')\n",
    "plt.axvline(x=high, color='red', linestyle='--')\n",
    "plt.show()"
   ]
  },
  {
   "cell_type": "markdown",
   "id": "6fe7371f",
   "metadata": {},
   "source": [
    "In this case we see that we can also reject our null hypothesis."
   ]
  },
  {
   "cell_type": "markdown",
   "id": "6a5d7f40",
   "metadata": {},
   "source": [
    "## Conclusion on Hypothesis Testing\n",
    "\n",
    "\n",
    "The word accept is one that is avoided when making statements regarding the null and alternative. You are not stating that one of the hypotheses is true. Rather, you are making a decision based on the likelihood of your data coming from the null hypothesis with regard to your type I error threshold.\n",
    "\n",
    "Therefore, the wording used in conclusions of hypothesis testing includes: **We reject the null hypothesis** or **We fail to reject the null hypothesis**. This lends itself to the idea that you start with the null hypothesis true by default, and \"choosing\" the null at the end of the test would have been the choice even if no data were collected.\n"
   ]
  },
  {
   "cell_type": "markdown",
   "id": "ce828e36",
   "metadata": {},
   "source": [
    "## Error and thresholding\n",
    "The p-value is the probability of getting our statistic or a more extreme value if the null is true.\n",
    "\n",
    "Therefore, small p-values suggest our null is not true. Rather, our statistic is likely to have come from a different distribution than the null.\n",
    "\n",
    "When the p-value is large, we have evidence that our statistic was likely to come from the null hypothesis. Therefore, we do not have evidence to reject the null. \n",
    "\n",
    "That is:\n",
    "<center>\n",
    "    $p_{val} \\leq \\alpha$ we reject $H_0$ <br>\n",
    "    $p_{val} \\gt \\alpha$ we accept $H_0$ <br>\n",
    "<br>\n",
    "    <b>If your p-val is less than $\\alpha$ we say that our test is statistically significative.</b>\n",
    "</center>\n"
   ]
  },
  {
   "cell_type": "code",
   "execution_count": null,
   "id": "e6ee5c30",
   "metadata": {},
   "outputs": [],
   "source": []
  }
 ],
 "metadata": {
  "kernelspec": {
   "display_name": "Python 3 (ipykernel)",
   "language": "python",
   "name": "python3"
  },
  "language_info": {
   "codemirror_mode": {
    "name": "ipython",
    "version": 3
   },
   "file_extension": ".py",
   "mimetype": "text/x-python",
   "name": "python",
   "nbconvert_exporter": "python",
   "pygments_lexer": "ipython3",
   "version": "3.8.12"
  }
 },
 "nbformat": 4,
 "nbformat_minor": 5
}
